{
 "cells": [
  {
   "cell_type": "code",
   "execution_count": 1,
   "metadata": {
    "collapsed": true
   },
   "outputs": [],
   "source": [
    "from neighbor_server import *\n",
    "from social_graph import *\n",
    "import dists\n",
    "import Queue"
   ]
  },
  {
   "cell_type": "code",
   "execution_count": 2,
   "metadata": {
    "collapsed": false
   },
   "outputs": [
    {
     "name": "stdout",
     "output_type": "stream",
     "text": [
      "Initializing check ins\n",
      "Initializing network\n"
     ]
    }
   ],
   "source": [
    "sg = SocialGraph(\"train\")"
   ]
  },
  {
   "cell_type": "code",
   "execution_count": 3,
   "metadata": {
    "collapsed": true
   },
   "outputs": [],
   "source": [
    "from __future__ import print_function"
   ]
  },
  {
   "cell_type": "code",
   "execution_count": 4,
   "metadata": {
    "collapsed": false
   },
   "outputs": [
    {
     "data": {
      "text/plain": [
       "'\\nwhen you add neighbors into the graph\\ntheir g(source) = dist of last check in from source\\nand their h(n) = dist of last check in from end\\n\\ng is cost of geographic movement from source\\nh becomes hueristic to choose the closest neighbor to goal\\n\\nto throttle the API,\\npick the top k nodes at each step that have f = g + h the minimum\\nrather than putting all nodes in the priority queue\\n\\notherwise put all the nodes in the queue, hoping for hueristic to take care of the problem\\nalso maintain the got_neighbors_for set so that multiple test cases can use the same graph\\n'"
      ]
     },
     "execution_count": 4,
     "metadata": {},
     "output_type": "execute_result"
    }
   ],
   "source": [
    "'''\n",
    "when you add neighbors into the graph\n",
    "their g(source) = dist of last check in from source\n",
    "and their h(n) = dist of last check in from end\n",
    "\n",
    "g is cost of geographic movement from source\n",
    "h becomes hueristic to choose the closest neighbor to goal\n",
    "\n",
    "to throttle the API,\n",
    "pick the top k nodes at each step that have f = g + h the minimum\n",
    "rather than putting all nodes in the priority queue\n",
    "\n",
    "otherwise put all the nodes in the queue, hoping for hueristic to take care of the problem\n",
    "also maintain the got_neighbors_for set so that multiple test cases can use the same graph\n",
    "'''"
   ]
  },
  {
   "cell_type": "code",
   "execution_count": 6,
   "metadata": {
    "collapsed": false
   },
   "outputs": [],
   "source": [
    "def get_dist(source, dest, dist_fn):\n",
    "    return dist_fn(sg.get_location(source), sg.get_location(dest))"
   ]
  },
  {
   "cell_type": "code",
   "execution_count": 14,
   "metadata": {
    "collapsed": true
   },
   "outputs": [],
   "source": [
    "def astar_distance_based(source, dest, got_neighbors_for, testcase_id=1, g_fn=dists.manhattan, h_fn=dists.manhattan):\n",
    "    closed_set = set()\n",
    "    # used to reconstruct path after finding destination\n",
    "    came_from = {}\n",
    "    g = {}\n",
    "    g[source] = 0\n",
    "    fq = Queue.PriorityQueue()\n",
    "    \n",
    "    # initialize heap with start node\n",
    "    open_set = { source }\n",
    "    fq.put((get_dist(source, dest, h_fn), source))\n",
    "    while open_set and (not fq.empty()):\n",
    "        min_f, current = fq.get()\n",
    "        \n",
    "        if current == dest:\n",
    "            print(\"Destination Reached\")\n",
    "            return (reconstructed_path(came_from, current), got_neighbors_for)\n",
    "        \n",
    "        open_set.remove(current)\n",
    "        closed_set.add(current)\n",
    "        \n",
    "        neighbors = None\n",
    "        if current not in got_neighbors_for: \n",
    "            print(\"Getting neighbors for:\", current)\n",
    "            neighbors = get_neighbors(current, testcase_id)\n",
    "            got_neighbors_for.add(current)\n",
    "        else:\n",
    "            neighbors = sg.get_neighbors(current)\n",
    "        \n",
    "        for neighbor in neighbors.iterkeys():\n",
    "            if neighbor not in closed_set:\n",
    "                tentative_g = g[current] + get_dist(current, neighbor, g_fn)\n",
    "                if neighbor not in open_set or tentative_g < g[neighbor]:\n",
    "                    open_set.add(neighbor)\n",
    "                    g[neighbor] = tentative_g\n",
    "                    f_score  = g[neighbor] + get_dist(neighbor, dest, h_fn)\n",
    "                    fq.put((f_score, neighbor))\n",
    "                    came_from[neighbor] = current\n",
    "                    \n",
    "def reconstructed_path(came_from, current):\n",
    "    path = [current]\n",
    "    while current in came_from:\n",
    "        current = came_from[current]\n",
    "        path.append(current)\n",
    "    return [p for p in reversed(path)]\n"
   ]
  },
  {
   "cell_type": "code",
   "execution_count": 15,
   "metadata": {
    "collapsed": false
   },
   "outputs": [
    {
     "name": "stdout",
     "output_type": "stream",
     "text": [
      "Getting neighbors for: 5555\n",
      "Getting neighbors for: 8\n",
      "Getting neighbors for: 221\n",
      "Getting neighbors for: 839\n",
      "Getting neighbors for: 3662\n",
      "Getting neighbors for: 4488\n",
      "Getting neighbors for: 13788\n",
      "Getting neighbors for: 15157\n",
      "Getting neighbors for: 31378\n",
      "Getting neighbors for: 43963\n",
      "Getting neighbors for: 37\n",
      "Getting neighbors for: 21559\n",
      "Getting neighbors for: 186\n",
      "Getting neighbors for: 260\n",
      "Getting neighbors for: 307\n",
      "Getting neighbors for: 582\n",
      "Getting neighbors for: 4481\n",
      "Getting neighbors for: 974\n",
      "Getting neighbors for: 983\n",
      "Getting neighbors for: 1863\n",
      "Getting neighbors for: 2639\n",
      "Getting neighbors for: 4397\n",
      "Getting neighbors for: 4398\n",
      "Getting neighbors for: 4478\n",
      "Getting neighbors for: 4479\n",
      "Getting neighbors for: 4896\n",
      "Getting neighbors for: 5003\n",
      "Getting neighbors for: 5185\n",
      "Getting neighbors for: 5187\n",
      "Getting neighbors for: 5260\n",
      "Getting neighbors for: 5262\n",
      "Getting neighbors for: 6468\n",
      "Getting neighbors for: 7561\n",
      "Getting neighbors for: 7566\n",
      "Getting neighbors for: 4019\n",
      "Getting neighbors for: 8245\n",
      "Getting neighbors for: 8832\n",
      "Getting neighbors for: 8908\n",
      "Getting neighbors for: 9000\n",
      "Getting neighbors for: 9294\n",
      "Getting neighbors for: 10358\n",
      "Getting neighbors for: 10535\n",
      "Getting neighbors for: 10652\n",
      "Getting neighbors for: 622\n",
      "Getting neighbors for: 8202\n",
      "Getting neighbors for: 8531\n",
      "Getting neighbors for: 10750\n",
      "Getting neighbors for: 11157\n",
      "Getting neighbors for: 11184\n",
      "Getting neighbors for: 11224\n",
      "Getting neighbors for: 13166\n",
      "Getting neighbors for: 14100\n",
      "Getting neighbors for: 14417\n",
      "Getting neighbors for: 14486\n",
      "Getting neighbors for: 15228\n",
      "Getting neighbors for: 15359\n",
      "Getting neighbors for: 15366\n",
      "Getting neighbors for: 15894\n",
      "Getting neighbors for: 15904\n",
      "Getting neighbors for: 16203\n",
      "Getting neighbors for: 18131\n",
      "Getting neighbors for: 18233\n",
      "Getting neighbors for: 2325\n",
      "Getting neighbors for: 18384\n",
      "Getting neighbors for: 18393\n",
      "Getting neighbors for: 18598\n",
      "Getting neighbors for: 15150\n",
      "Getting neighbors for: 19390\n",
      "Destination Reached\n"
     ]
    }
   ],
   "source": [
    "shortest_path, got_neighbors_for = astar_distance_based(5555, 2222, set())"
   ]
  },
  {
   "cell_type": "code",
   "execution_count": 16,
   "metadata": {
    "collapsed": false
   },
   "outputs": [
    {
     "data": {
      "text/plain": [
       "[5555, 8, 5187, 19390, 2222]"
      ]
     },
     "execution_count": 16,
     "metadata": {},
     "output_type": "execute_result"
    }
   ],
   "source": [
    "shortest_path"
   ]
  },
  {
   "cell_type": "code",
   "execution_count": 17,
   "metadata": {
    "collapsed": false
   },
   "outputs": [
    {
     "name": "stdout",
     "output_type": "stream",
     "text": [
      "Destination Reached\n"
     ]
    }
   ],
   "source": [
    "shortest_path, got_neighbors_for = astar_distance_based(5555, 2222, got_neighbors_for)"
   ]
  },
  {
   "cell_type": "code",
   "execution_count": 18,
   "metadata": {
    "collapsed": false
   },
   "outputs": [
    {
     "name": "stdout",
     "output_type": "stream",
     "text": [
      "Getting neighbors for: 939\n",
      "Getting neighbors for: 4087\n",
      "Getting neighbors for: 6062\n",
      "Getting neighbors for: 411\n",
      "Getting neighbors for: 4933\n",
      "Getting neighbors for: 6800\n",
      "Getting neighbors for: 18269\n",
      "Getting neighbors for: 43686\n",
      "Getting neighbors for: 2288\n",
      "Getting neighbors for: 7324\n",
      "Getting neighbors for: 10769\n",
      "Getting neighbors for: 10939\n",
      "Getting neighbors for: 11903\n",
      "Getting neighbors for: 13376\n",
      "Getting neighbors for: 6\n",
      "Getting neighbors for: 15287\n",
      "Getting neighbors for: 15690\n",
      "Getting neighbors for: 23382\n",
      "Getting neighbors for: 6110\n",
      "Getting neighbors for: 23400\n",
      "Getting neighbors for: 29458\n",
      "Getting neighbors for: 29459\n",
      "Getting neighbors for: 29601\n",
      "Getting neighbors for: 31666\n",
      "Getting neighbors for: 37353\n",
      "Getting neighbors for: 38712\n",
      "Getting neighbors for: 39961\n",
      "Getting neighbors for: 3294\n",
      "Getting neighbors for: 41538\n",
      "Getting neighbors for: 4180\n",
      "Getting neighbors for: 4652\n",
      "Getting neighbors for: 5184\n",
      "Getting neighbors for: 7041\n",
      "Getting neighbors for: 11728\n",
      "Getting neighbors for: 13006\n",
      "Destination Reached\n"
     ]
    }
   ],
   "source": [
    "shortest_path, got_neighbors_for = astar_distance_based(939, 401, got_neighbors_for)"
   ]
  },
  {
   "cell_type": "code",
   "execution_count": 19,
   "metadata": {
    "collapsed": false
   },
   "outputs": [
    {
     "data": {
      "text/plain": [
       "[939, 8, 13006, 401]"
      ]
     },
     "execution_count": 19,
     "metadata": {},
     "output_type": "execute_result"
    }
   ],
   "source": [
    "shortest_path"
   ]
  },
  {
   "cell_type": "code",
   "execution_count": null,
   "metadata": {
    "collapsed": true
   },
   "outputs": [],
   "source": []
  }
 ],
 "metadata": {
  "kernelspec": {
   "display_name": "Python 2",
   "language": "python",
   "name": "python2"
  },
  "language_info": {
   "codemirror_mode": {
    "name": "ipython",
    "version": 2
   },
   "file_extension": ".py",
   "mimetype": "text/x-python",
   "name": "python",
   "nbconvert_exporter": "python",
   "pygments_lexer": "ipython2",
   "version": "2.7.11"
  }
 },
 "nbformat": 4,
 "nbformat_minor": 0
}
