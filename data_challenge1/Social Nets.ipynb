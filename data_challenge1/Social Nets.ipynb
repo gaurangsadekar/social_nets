{
 "cells": [
  {
   "cell_type": "code",
   "execution_count": 1,
   "metadata": {
    "collapsed": false
   },
   "outputs": [],
   "source": [
    "from neighbor_server import *\n",
    "from social_graph import *\n",
    "from shortest_paths import *"
   ]
  },
  {
   "cell_type": "code",
   "execution_count": 2,
   "metadata": {
    "collapsed": false
   },
   "outputs": [
    {
     "name": "stdout",
     "output_type": "stream",
     "text": [
      "Initializing check ins\n",
      "Loading from Training Pickle File\n",
      "Initializing network\n"
     ]
    }
   ],
   "source": [
    "sg = SocialGraph(\"train\")"
   ]
  },
  {
   "cell_type": "code",
   "execution_count": 3,
   "metadata": {
    "collapsed": true
   },
   "outputs": [],
   "source": [
    "from __future__ import print_function"
   ]
  },
  {
   "cell_type": "code",
   "execution_count": 4,
   "metadata": {
    "collapsed": false
   },
   "outputs": [
    {
     "data": {
      "text/plain": [
       "'\\nwhen you add neighbors into the graph\\ntheir g(source) = dist of last check in from source\\nand their h(n) = dist of last check in from end\\n\\ng is cost of geographic movement from source\\nh becomes hueristic to choose the closest neighbor to goal\\n\\nto throttle the API,\\npick the top k nodes at each step that have f = g + h the minimum\\nrather than putting all nodes in the priority queue\\n\\notherwise put all the nodes in the queue, hoping for hueristic to take care of the problem\\nalso maintain the got_neighbors_for set so that multiple test cases can use the same graph\\n'"
      ]
     },
     "execution_count": 4,
     "metadata": {},
     "output_type": "execute_result"
    }
   ],
   "source": [
    "'''\n",
    "when you add neighbors into the graph\n",
    "their g(source) = dist of last check in from source\n",
    "and their h(n) = dist of last check in from end\n",
    "\n",
    "g is cost of geographic movement from source\n",
    "h becomes hueristic to choose the closest neighbor to goal\n",
    "\n",
    "to throttle the API,\n",
    "pick the top k nodes at each step that have f = g + h the minimum\n",
    "rather than putting all nodes in the priority queue\n",
    "\n",
    "otherwise put all the nodes in the queue, hoping for hueristic to take care of the problem\n",
    "also maintain the got_neighbors_for set so that multiple test cases can use the same graph\n",
    "'''"
   ]
  },
  {
   "cell_type": "code",
   "execution_count": 4,
   "metadata": {
    "collapsed": false
   },
   "outputs": [
    {
     "name": "stdout",
     "output_type": "stream",
     "text": [
      "Destination Reached\n",
      "Number of Queries made: 184\n"
     ]
    }
   ],
   "source": [
    "shortest_path, path_length, num_queries, got_neighbors_for = astar_distance_based(sg, 5555, 2222, set(), \"train\", g_fn=dists.unweighted, h_fn=dists.l2)"
   ]
  },
  {
   "cell_type": "code",
   "execution_count": 5,
   "metadata": {
    "collapsed": false
   },
   "outputs": [
    {
     "data": {
      "text/plain": [
       "[5555, 648, 30447, 2222]"
      ]
     },
     "execution_count": 5,
     "metadata": {},
     "output_type": "execute_result"
    }
   ],
   "source": [
    "shortest_path"
   ]
  },
  {
   "cell_type": "code",
   "execution_count": null,
   "metadata": {
    "collapsed": true
   },
   "outputs": [],
   "source": [
    "shortest_path, path_length, num_queries, got_neighbors_for = astar_distance_based(sg, 5555, 2222, set(), \"train\", g_fn=dists.unweighted, h_fn=dists.l2)"
   ]
  },
  {
   "cell_type": "code",
   "execution_count": 13,
   "metadata": {
    "collapsed": false
   },
   "outputs": [
    {
     "name": "stdout",
     "output_type": "stream",
     "text": [
      "Destination Reached\n"
     ]
    }
   ],
   "source": [
    "shortest_path, path_length, num_queries, got_neighbors_for = astar_distance_based(sg, 939, 401, set(), \"train\", g_fn=dists.unweighted, h_fn=dists.manhattan)"
   ]
  },
  {
   "cell_type": "code",
   "execution_count": 14,
   "metadata": {
    "collapsed": false
   },
   "outputs": [
    {
     "data": {
      "text/plain": [
       "[939, 5294, 27493, 10278, 401]"
      ]
     },
     "execution_count": 14,
     "metadata": {},
     "output_type": "execute_result"
    }
   ],
   "source": [
    "shortest_path"
   ]
  },
  {
   "cell_type": "code",
   "execution_count": 15,
   "metadata": {
    "collapsed": false
   },
   "outputs": [
    {
     "data": {
      "text/plain": [
       "4"
      ]
     },
     "execution_count": 15,
     "metadata": {},
     "output_type": "execute_result"
    }
   ],
   "source": [
    "path_length"
   ]
  },
  {
   "cell_type": "code",
   "execution_count": 18,
   "metadata": {
    "collapsed": false
   },
   "outputs": [
    {
     "name": "stdout",
     "output_type": "stream",
     "text": [
      "Destination Reached\n"
     ]
    }
   ],
   "source": [
    "shortest_path, path_length, got_neighbors_for = astar_distance_based(sg, 5555, 2222, set(), \"train\", g_fn=dists.manhattan, h_fn=dists.manhattan)"
   ]
  },
  {
   "cell_type": "code",
   "execution_count": 19,
   "metadata": {
    "collapsed": false
   },
   "outputs": [
    {
     "data": {
      "text/plain": [
       "[5555, 8, 5187, 19390, 2222]"
      ]
     },
     "execution_count": 19,
     "metadata": {},
     "output_type": "execute_result"
    }
   ],
   "source": [
    "shortest_path"
   ]
  },
  {
   "cell_type": "code",
   "execution_count": 4,
   "metadata": {
    "collapsed": false
   },
   "outputs": [],
   "source": [
    "# path length\n",
    "task1_combs = [(dists.unweighted, dists.manhattan), (dists.unweighted, dists.l2)]\n",
    "# geographic length\n",
    "task2_combs = [(dists.manhattan, dists.manhattan), (dists.l2, dists.l2)]"
   ]
  },
  {
   "cell_type": "code",
   "execution_count": 6,
   "metadata": {
    "collapsed": false
   },
   "outputs": [
    {
     "name": "stdout",
     "output_type": "stream",
     "text": [
      "Destination Reached\n",
      "Number of Queries made: 146\n",
      "[5555, 648, 27809, 1734, 7229, 2222] 5\n",
      "Destination Reached\n",
      "Number of Queries made: 184\n",
      "[5555, 648, 30447, 2222] 3\n"
     ]
    }
   ],
   "source": [
    "source = 5555\n",
    "dest = 2222\n",
    "for g_func, h_func in task1_combs:\n",
    "    shortest_path, path_length, num_queries, got_neighbors_for = astar_distance_based(\n",
    "        sg, source, dest, set(), \"train\", \n",
    "        g_fn=g_func, h_fn=h_func\n",
    "    )\n",
    "    print(shortest_path, path_length)"
   ]
  },
  {
   "cell_type": "code",
   "execution_count": 9,
   "metadata": {
    "collapsed": false
   },
   "outputs": [
    {
     "name": "stdout",
     "output_type": "stream",
     "text": [
      "Destination Reached\n",
      "Number of Queries made: 8259\n",
      "[42568, 24952, 41, 27389, 2415, 10029, 8195] 6\n",
      "Destination Reached\n",
      "Number of Queries made: 7089\n",
      "[42568, 24952, 41, 27389, 2415, 10029, 8195] 6\n"
     ]
    }
   ],
   "source": [
    "source = 42568\n",
    "dest = 8195\n",
    "for g_func, h_func in task1_combs:\n",
    "    shortest_path, path_length, num_queries, got_neighbors_for = astar_distance_based(\n",
    "        sg, source, dest, set(), \"train\", \n",
    "        g_fn=g_func, h_fn=h_func\n",
    "    )\n",
    "    print(shortest_path, path_length)"
   ]
  },
  {
   "cell_type": "code",
   "execution_count": 38,
   "metadata": {
    "collapsed": false
   },
   "outputs": [],
   "source": [
    "# returns the path in reverse\n",
    "def reconstructed_path(came_from, current):\n",
    "    path = [current]\n",
    "    while current in came_from:\n",
    "        current = came_from[current]\n",
    "        path.append(current)\n",
    "    return path\n",
    "\n",
    "def get_path(node, neighbor, came_from_source, came_from_dest):\n",
    "    # process path\n",
    "    source_path = [p for p in reversed(reconstructed_path(came_from_source, node))]\n",
    "    dest_path = reconstructed_path(came_from_dest, neighbor)\n",
    "    path = source_path + dest_path\n",
    "    return path\n",
    "    \n",
    "def expand_frontier(sg, node, start_frontier, target_frontier, \n",
    "                    fq, g_source, g_dest, came_from_source, came_from_dest,\n",
    "                    closed_set, num_queries, \n",
    "                    g_fn, h_fn, opt=\"train\"):\n",
    "    \n",
    "    if node not in closed_set:\n",
    "        num_queries.append(1)\n",
    "\n",
    "    neighbors = sg.get_neighbors(node)\n",
    "    for neighbor in neighbors:\n",
    "        if neighbor in target_frontier:\n",
    "            # path found\n",
    "            print(\"Path found at:\", node, neighbor)\n",
    "            path = get_path(node, neighbor, came_from_source, came_from_dest)\n",
    "            path_length = g_source[node] + sg.get_dist(node, neighbor, g_fn) + g_dest[neighbor]\n",
    "            return (path, path_length)\n",
    "        else:\n",
    "            # compute h\n",
    "            neighbor_h = sys.maxsize\n",
    "            for tn in target_frontier:\n",
    "                curr_h = g_dest[tn] + sg.get_dist(neighbor, tn, h_fn)\n",
    "                neighbor_h = min(neighbor_h, curr_h)\n",
    "            \n",
    "            # for every neighbor, compute f\n",
    "            tentative_g = g_source[node] + sg.get_dist(node, neighbor, g_fn)\n",
    "            if neighbor not in g_source or tentative_g < g_source[neighbor]:\n",
    "                g_source[neighbor] = tentative_g\n",
    "                f_score = g_source[neighbor] + neighbor_h\n",
    "                came_from_source[neighbor] = node\n",
    "                fq.put((f_score, neighbor))\n",
    "    # add to start frontier\n",
    "    for neighbor in neighbors:\n",
    "        start_frontier.add(neighbor)\n",
    "    \n",
    "    return (None, None)\n",
    "\n",
    "def frontier_search(sg, source, dest, got_neighbors_for, testcase_id=1, g_fn=dists.unweighted, h_fn=dists.manhattan):\n",
    "    source_frontier = { source }\n",
    "    closed = set()\n",
    "    dest_frontier = { dest }\n",
    "    num_queries = 0\n",
    "    came_from_source = {}\n",
    "    came_from_dest = {}\n",
    "    \n",
    "    g_source = {}\n",
    "    g_dest = {}\n",
    "    for node in sg.node_checkins:\n",
    "        g_source[node] = sys.maxint\n",
    "        g_dest[node] = sys.maxint\n",
    "    g_source[source] = 0\n",
    "    g_dest[dest] = 0\n",
    "    \n",
    "    fq = Queue.PriorityQueue()\n",
    "    h_source_dest = sg.get_dist(source, dest, h_fn)\n",
    "    fq.put((h_source_dest, source))\n",
    "    fq.put((h_source_dest, dest))\n",
    "    num_queries = []\n",
    "    while not fq.empty():\n",
    "        min_f, current = fq.get()\n",
    "            \n",
    "        if current in source_frontier:\n",
    "            res = expand_frontier(sg, current, \n",
    "                                  source_frontier, dest_frontier, fq,\n",
    "                                  g_source, g_dest, \n",
    "                                  came_from_source, came_from_dest,\n",
    "                                  closed, num_queries,\n",
    "                                  g_fn, h_fn\n",
    "                                 )\n",
    "            \n",
    "        elif current in dest_frontier:\n",
    "            res = expand_frontier(sg, current, \n",
    "                                  dest_frontier, source_frontier, fq,\n",
    "                                  g_dest, g_source,\n",
    "                                  came_from_dest, came_from_source,\n",
    "                                  closed, num_queries,\n",
    "                                  g_fn, h_fn\n",
    "                                 )\n",
    "        closed.add(current)\n",
    "            \n",
    "        if res != (None, None):\n",
    "            path, path_length = res\n",
    "            if dest == path[0] and source == path[-1]:\n",
    "                path.reverse()\n",
    "            return (path, path_length, sum(num_queries))    "
   ]
  },
  {
   "cell_type": "code",
   "execution_count": 39,
   "metadata": {
    "collapsed": false
   },
   "outputs": [
    {
     "name": "stdout",
     "output_type": "stream",
     "text": [
      "Path found at: 8 5555\n"
     ]
    }
   ],
   "source": [
    "shortest_path, path_length, nq = frontier_search(sg, 5555, 2222, set())"
   ]
  },
  {
   "cell_type": "code",
   "execution_count": 40,
   "metadata": {
    "collapsed": false
   },
   "outputs": [
    {
     "data": {
      "text/plain": [
       "[5555, 8, 13239, 1266, 2222]"
      ]
     },
     "execution_count": 40,
     "metadata": {},
     "output_type": "execute_result"
    }
   ],
   "source": [
    "shortest_path"
   ]
  },
  {
   "cell_type": "code",
   "execution_count": 41,
   "metadata": {
    "collapsed": false
   },
   "outputs": [
    {
     "data": {
      "text/plain": [
       "4"
      ]
     },
     "execution_count": 41,
     "metadata": {},
     "output_type": "execute_result"
    }
   ],
   "source": [
    "path_length"
   ]
  },
  {
   "cell_type": "code",
   "execution_count": 42,
   "metadata": {
    "collapsed": false
   },
   "outputs": [
    {
     "data": {
      "text/plain": [
       "82"
      ]
     },
     "execution_count": 42,
     "metadata": {},
     "output_type": "execute_result"
    }
   ],
   "source": [
    "nq"
   ]
  },
  {
   "cell_type": "code",
   "execution_count": 44,
   "metadata": {
    "collapsed": false
   },
   "outputs": [
    {
     "name": "stdout",
     "output_type": "stream",
     "text": [
      "Destination Reached\n",
      "Number of Queries made: 146\n"
     ]
    }
   ],
   "source": [
    "path, length, gnf, nq = astar_distance_based(sg, 5555, 2222, set(), \"train\", g_fn=dists.unweighted)"
   ]
  },
  {
   "cell_type": "code",
   "execution_count": null,
   "metadata": {
    "collapsed": true
   },
   "outputs": [],
   "source": []
  }
 ],
 "metadata": {
  "kernelspec": {
   "display_name": "Python 2",
   "language": "python",
   "name": "python2"
  },
  "language_info": {
   "codemirror_mode": {
    "name": "ipython",
    "version": 2
   },
   "file_extension": ".py",
   "mimetype": "text/x-python",
   "name": "python",
   "nbconvert_exporter": "python",
   "pygments_lexer": "ipython2",
   "version": "2.7.11"
  }
 },
 "nbformat": 4,
 "nbformat_minor": 0
}
