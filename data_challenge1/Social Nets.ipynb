{
 "cells": [
  {
   "cell_type": "code",
   "execution_count": 14,
   "metadata": {
    "collapsed": false
   },
   "outputs": [],
   "source": [
    "from neighbor_server import *\n",
    "from social_graph import *\n",
    "from shortest_paths import *"
   ]
  },
  {
   "cell_type": "code",
   "execution_count": 15,
   "metadata": {
    "collapsed": false
   },
   "outputs": [
    {
     "name": "stdout",
     "output_type": "stream",
     "text": [
      "Initializing check ins\n",
      "Loading from Training Pickle File\n",
      "Initializing network\n"
     ]
    }
   ],
   "source": [
    "sg = SocialGraph(\"train\")"
   ]
  },
  {
   "cell_type": "code",
   "execution_count": 16,
   "metadata": {
    "collapsed": true
   },
   "outputs": [],
   "source": [
    "from __future__ import print_function"
   ]
  },
  {
   "cell_type": "code",
   "execution_count": 4,
   "metadata": {
    "collapsed": false
   },
   "outputs": [
    {
     "data": {
      "text/plain": [
       "'\\nwhen you add neighbors into the graph\\ntheir g(source) = dist of last check in from source\\nand their h(n) = dist of last check in from end\\n\\ng is cost of geographic movement from source\\nh becomes hueristic to choose the closest neighbor to goal\\n\\nto throttle the API,\\npick the top k nodes at each step that have f = g + h the minimum\\nrather than putting all nodes in the priority queue\\n\\notherwise put all the nodes in the queue, hoping for hueristic to take care of the problem\\nalso maintain the got_neighbors_for set so that multiple test cases can use the same graph\\n'"
      ]
     },
     "execution_count": 4,
     "metadata": {},
     "output_type": "execute_result"
    }
   ],
   "source": [
    "'''\n",
    "when you add neighbors into the graph\n",
    "their g(source) = dist of last check in from source\n",
    "and their h(n) = dist of last check in from end\n",
    "\n",
    "g is cost of geographic movement from source\n",
    "h becomes hueristic to choose the closest neighbor to goal\n",
    "\n",
    "to throttle the API,\n",
    "pick the top k nodes at each step that have f = g + h the minimum\n",
    "rather than putting all nodes in the priority queue\n",
    "\n",
    "otherwise put all the nodes in the queue, hoping for hueristic to take care of the problem\n",
    "also maintain the got_neighbors_for set so that multiple test cases can use the same graph\n",
    "'''"
   ]
  },
  {
   "cell_type": "code",
   "execution_count": 26,
   "metadata": {
    "collapsed": true
   },
   "outputs": [],
   "source": [
    "import sys"
   ]
  },
  {
   "cell_type": "code",
   "execution_count": 4,
   "metadata": {
    "collapsed": false
   },
   "outputs": [
    {
     "name": "stdout",
     "output_type": "stream",
     "text": [
      "Getting neighbors for: 5555\n",
      "Getting neighbors for: 648\n",
      "Getting neighbors for: 12614\n",
      "Getting neighbors for: 647\n",
      "Getting neighbors for: 649\n",
      "Getting neighbors for: 9321\n",
      "Getting neighbors for: 18163\n",
      "Getting neighbors for: 36559\n",
      "Getting neighbors for: 280\n",
      "Getting neighbors for: 9327\n",
      "Getting neighbors for: 40345\n",
      "Getting neighbors for: 9324\n",
      "Getting neighbors for: 9322\n",
      "Getting neighbors for: 9323\n",
      "Getting neighbors for: 32515\n",
      "Getting neighbors for: 7576\n",
      "Getting neighbors for: 11576\n",
      "Getting neighbors for: 41857\n",
      "Getting neighbors for: 15665\n",
      "Getting neighbors for: 13711\n",
      "Getting neighbors for: 964\n",
      "Getting neighbors for: 22591\n",
      "Getting neighbors for: 21373\n",
      "Getting neighbors for: 2202\n",
      "Getting neighbors for: 11287\n",
      "Getting neighbors for: 13394\n",
      "Getting neighbors for: 15947\n",
      "Getting neighbors for: 37713\n",
      "Getting neighbors for: 6883\n",
      "Getting neighbors for: 20287\n",
      "Getting neighbors for: 25511\n",
      "Getting neighbors for: 17599\n",
      "Getting neighbors for: 11592\n",
      "Getting neighbors for: 40568\n",
      "Getting neighbors for: 11290\n",
      "Getting neighbors for: 11289\n",
      "Getting neighbors for: 35707\n",
      "Getting neighbors for: 31676\n",
      "Getting neighbors for: 40021\n",
      "Getting neighbors for: 13051\n",
      "Getting neighbors for: 11288\n",
      "Getting neighbors for: 31673\n",
      "Getting neighbors for: 38502\n",
      "Getting neighbors for: 6150\n",
      "Getting neighbors for: 31675\n",
      "Getting neighbors for: 31674\n",
      "Getting neighbors for: 9621\n",
      "Getting neighbors for: 3954\n",
      "Getting neighbors for: 15119\n",
      "Getting neighbors for: 11291\n",
      "Getting neighbors for: 38501\n",
      "Getting neighbors for: 34993\n",
      "Getting neighbors for: 17096\n",
      "Getting neighbors for: 43503\n",
      "Getting neighbors for: 24179\n",
      "Getting neighbors for: 4460\n",
      "Getting neighbors for: 7457\n",
      "Getting neighbors for: 8210\n",
      "Getting neighbors for: 16963\n",
      "Getting neighbors for: 3289\n",
      "Getting neighbors for: 23383\n",
      "Getting neighbors for: 3286\n",
      "Getting neighbors for: 33012\n",
      "Getting neighbors for: 45438\n",
      "Getting neighbors for: 37461\n",
      "Getting neighbors for: 11213\n",
      "Getting neighbors for: 11204\n",
      "Getting neighbors for: 11612\n",
      "Getting neighbors for: 11591\n",
      "Getting neighbors for: 22171\n",
      "Getting neighbors for: 11590\n",
      "Getting neighbors for: 11205\n",
      "Getting neighbors for: 13708\n",
      "Getting neighbors for: 8209\n",
      "Getting neighbors for: 13714\n",
      "Getting neighbors for: 13713\n",
      "Getting neighbors for: 34745\n",
      "Getting neighbors for: 16880\n",
      "Getting neighbors for: 4893\n",
      "Getting neighbors for: 27809\n",
      "Getting neighbors for: 18888\n",
      "Getting neighbors for: 7736\n",
      "Getting neighbors for: 27808\n",
      "Getting neighbors for: 45312\n",
      "Getting neighbors for: 10225\n",
      "Getting neighbors for: 34126\n",
      "Getting neighbors for: 11623\n",
      "Getting neighbors for: 4035\n",
      "Getting neighbors for: 16978\n",
      "Getting neighbors for: 17600\n",
      "Getting neighbors for: 17294\n",
      "Getting neighbors for: 5117\n",
      "Getting neighbors for: 31534\n",
      "Getting neighbors for: 22361\n",
      "Getting neighbors for: 8716\n",
      "Getting neighbors for: 23839\n",
      "Getting neighbors for: 34657\n",
      "Getting neighbors for: 11585\n",
      "Getting neighbors for: 22115\n",
      "Getting neighbors for: 22117\n",
      "Getting neighbors for: 17891\n",
      "Getting neighbors for: 11885\n",
      "Getting neighbors for: 43498\n",
      "Getting neighbors for: 28295\n",
      "Getting neighbors for: 11587\n",
      "Getting neighbors for: 11622\n",
      "Getting neighbors for: 3953\n",
      "Getting neighbors for: 17480\n",
      "Getting neighbors for: 10696\n",
      "Getting neighbors for: 4361\n",
      "Getting neighbors for: 2218\n",
      "Getting neighbors for: 8934\n",
      "Getting neighbors for: 12626\n",
      "Getting neighbors for: 16796\n",
      "Getting neighbors for: 7577\n",
      "Getting neighbors for: 10612\n",
      "Getting neighbors for: 23395\n",
      "Getting neighbors for: 16962\n",
      "Getting neighbors for: 11012\n",
      "Getting neighbors for: 11580\n",
      "Getting neighbors for: 19356\n",
      "Getting neighbors for: 16573\n",
      "Getting neighbors for: 10182\n",
      "Getting neighbors for: 46689\n",
      "Getting neighbors for: 3957\n",
      "Getting neighbors for: 28361\n",
      "Getting neighbors for: 8729\n",
      "Getting neighbors for: 46674\n",
      "Getting neighbors for: 36160\n",
      "Getting neighbors for: 17477\n",
      "Getting neighbors for: 3960\n",
      "Getting neighbors for: 31856\n",
      "Getting neighbors for: 31855\n",
      "Getting neighbors for: 42647\n",
      "Getting neighbors for: 3955\n",
      "Getting neighbors for: 42243\n",
      "Getting neighbors for: 32763\n",
      "Getting neighbors for: 9083\n",
      "Getting neighbors for: 7957\n",
      "Getting neighbors for: 23183\n",
      "Getting neighbors for: 45813\n",
      "Getting neighbors for: 216\n",
      "Getting neighbors for: 26795\n",
      "Getting neighbors for: 26794\n",
      "Getting neighbors for: 3282\n",
      "Getting neighbors for: 29331\n",
      "Getting neighbors for: 962\n",
      "Getting neighbors for: 963\n",
      "Getting neighbors for: 4846\n",
      "Getting neighbors for: 16985\n",
      "Getting neighbors for: 15989\n",
      "Getting neighbors for: 4108\n",
      "Getting neighbors for: 31976\n",
      "Getting neighbors for: 31975\n",
      "Getting neighbors for: 31977\n",
      "Getting neighbors for: 37919\n",
      "Getting neighbors for: 32765\n",
      "Getting neighbors for: 11884\n",
      "Getting neighbors for: 12052\n",
      "Getting neighbors for: 1422\n",
      "Getting neighbors for: 11886\n",
      "Getting neighbors for: 43874\n",
      "Getting neighbors for: 33848\n",
      "Getting neighbors for: 46439\n",
      "Getting neighbors for: 42512\n",
      "Getting neighbors for: 5404\n",
      "Getting neighbors for: 9117\n",
      "Getting neighbors for: 25047\n",
      "Getting neighbors for: 25514\n",
      "Getting neighbors for: 25515\n",
      "Getting neighbors for: 25510\n",
      "Getting neighbors for: 25513\n",
      "Getting neighbors for: 29742\n",
      "Getting neighbors for: 13695\n",
      "Getting neighbors for: 13649\n",
      "Getting neighbors for: 44296\n",
      "Getting neighbors for: 13645\n",
      "Getting neighbors for: 7230\n",
      "Getting neighbors for: 32315\n",
      "Getting neighbors for: 3778\n",
      "Getting neighbors for: 18369\n",
      "Getting neighbors for: 1213\n",
      "Getting neighbors for: 1664\n",
      "Getting neighbors for: 30447\n",
      "Destination Reached\n",
      "Number of Queries made: 184\n"
     ]
    }
   ],
   "source": [
    "shortest_path, path_length, num_queries, got_neighbors_for = astar_distance_based(sg, 5555, 2222, set(), \"train\", g_fn=dists.unweighted, h_fn=dists.l2)"
   ]
  },
  {
   "cell_type": "code",
   "execution_count": 9,
   "metadata": {
    "collapsed": false
   },
   "outputs": [
    {
     "data": {
      "text/plain": [
       "[5555, 648, 30447, 2222]"
      ]
     },
     "execution_count": 9,
     "metadata": {},
     "output_type": "execute_result"
    }
   ],
   "source": [
    "shortest_path"
   ]
  },
  {
   "cell_type": "code",
   "execution_count": null,
   "metadata": {
    "collapsed": true
   },
   "outputs": [],
   "source": [
    "shortest_path, path_length, got_neighbors_for = astar_distance_based(sg, 5555, 2222, set(), \"train\", g_fn=dists.unweighted, h_fn=dists.l2)"
   ]
  },
  {
   "cell_type": "code",
   "execution_count": 13,
   "metadata": {
    "collapsed": false
   },
   "outputs": [
    {
     "name": "stdout",
     "output_type": "stream",
     "text": [
      "Destination Reached\n"
     ]
    }
   ],
   "source": [
    "shortest_path, path_length, got_neighbors_for = astar_distance_based(sg, 939, 401, set(), \"train\", g_fn=dists.unweighted, h_fn=dists.manhattan)"
   ]
  },
  {
   "cell_type": "code",
   "execution_count": 14,
   "metadata": {
    "collapsed": false
   },
   "outputs": [
    {
     "data": {
      "text/plain": [
       "[939, 5294, 27493, 10278, 401]"
      ]
     },
     "execution_count": 14,
     "metadata": {},
     "output_type": "execute_result"
    }
   ],
   "source": [
    "shortest_path"
   ]
  },
  {
   "cell_type": "code",
   "execution_count": 15,
   "metadata": {
    "collapsed": false
   },
   "outputs": [
    {
     "data": {
      "text/plain": [
       "4"
      ]
     },
     "execution_count": 15,
     "metadata": {},
     "output_type": "execute_result"
    }
   ],
   "source": [
    "path_length"
   ]
  },
  {
   "cell_type": "code",
   "execution_count": 18,
   "metadata": {
    "collapsed": false
   },
   "outputs": [
    {
     "name": "stdout",
     "output_type": "stream",
     "text": [
      "Destination Reached\n"
     ]
    }
   ],
   "source": [
    "shortest_path, path_length, got_neighbors_for = astar_distance_based(sg, 5555, 2222, set(), \"train\", g_fn=dists.manhattan, h_fn=dists.manhattan)"
   ]
  },
  {
   "cell_type": "code",
   "execution_count": 19,
   "metadata": {
    "collapsed": false
   },
   "outputs": [
    {
     "data": {
      "text/plain": [
       "[5555, 8, 5187, 19390, 2222]"
      ]
     },
     "execution_count": 19,
     "metadata": {},
     "output_type": "execute_result"
    }
   ],
   "source": [
    "shortest_path"
   ]
  },
  {
   "cell_type": "code",
   "execution_count": 10,
   "metadata": {
    "collapsed": false
   },
   "outputs": [],
   "source": [
    "# path length\n",
    "task1_combs = [(dists.unweighted, dists.manhattan), (dists.unweighted, dists.l2)]\n",
    "# geographic length\n",
    "task2_combs = [(dists.manhattan, dists.manhattan), (dists.l2, dists.l2)]"
   ]
  },
  {
   "cell_type": "code",
   "execution_count": 13,
   "metadata": {
    "collapsed": false
   },
   "outputs": [
    {
     "name": "stdout",
     "output_type": "stream",
     "text": [
      "Getting neighbors for: 5555\n",
      "Getting neighbors for: 8\n",
      "Getting neighbors for: 221\n",
      "Getting neighbors for: 839\n",
      "Getting neighbors for: 3662\n",
      "Getting neighbors for: 4488\n",
      "Getting neighbors for: 13788\n",
      "Getting neighbors for: 15157\n",
      "Getting neighbors for: 31378\n",
      "Getting neighbors for: 43963\n",
      "Getting neighbors for: 37\n",
      "Getting neighbors for: 21559\n",
      "Getting neighbors for: 186\n",
      "Getting neighbors for: 260\n",
      "Getting neighbors for: 307\n",
      "Getting neighbors for: 582\n",
      "Getting neighbors for: 4481\n",
      "Getting neighbors for: 974\n",
      "Getting neighbors for: 983\n",
      "Getting neighbors for: 1863\n",
      "Getting neighbors for: 2639\n",
      "Getting neighbors for: 4397\n",
      "Getting neighbors for: 4398\n",
      "Getting neighbors for: 4478\n",
      "Getting neighbors for: 4479\n",
      "Getting neighbors for: 4896\n",
      "Getting neighbors for: 5003\n",
      "Getting neighbors for: 5185\n",
      "Getting neighbors for: 5187\n",
      "Getting neighbors for: 5260\n",
      "Getting neighbors for: 5262\n",
      "Getting neighbors for: 6468\n",
      "Getting neighbors for: 7561\n",
      "Getting neighbors for: 7566\n",
      "Getting neighbors for: 4019\n",
      "Getting neighbors for: 8245\n",
      "Getting neighbors for: 8832\n",
      "Getting neighbors for: 8908\n",
      "Getting neighbors for: 9000\n",
      "Getting neighbors for: 9294\n",
      "Getting neighbors for: 10358\n",
      "Getting neighbors for: 10535\n",
      "Getting neighbors for: 10652\n",
      "Getting neighbors for: 622\n",
      "Getting neighbors for: 8202\n",
      "Getting neighbors for: 8531\n",
      "Getting neighbors for: 10750\n",
      "Getting neighbors for: 11157\n",
      "Getting neighbors for: 11184\n",
      "Getting neighbors for: 11224\n",
      "Getting neighbors for: 13166\n",
      "Getting neighbors for: 14100\n",
      "Getting neighbors for: 14417\n",
      "Getting neighbors for: 14486\n",
      "Getting neighbors for: 15228\n",
      "Getting neighbors for: 15359\n",
      "Getting neighbors for: 15366\n",
      "Getting neighbors for: 15894\n",
      "Getting neighbors for: 15904\n",
      "Getting neighbors for: 16203\n",
      "Getting neighbors for: 18131\n",
      "Getting neighbors for: 18233\n",
      "Getting neighbors for: 2325\n",
      "Getting neighbors for: 18384\n",
      "Getting neighbors for: 18393\n",
      "Getting neighbors for: 18598\n",
      "Getting neighbors for: 15150\n",
      "Getting neighbors for: 19390\n",
      "Destination Reached\n",
      "Number of Queries made: 68\n"
     ]
    },
    {
     "ename": "ValueError",
     "evalue": "need more than 3 values to unpack",
     "output_type": "error",
     "traceback": [
      "\u001b[0;31m---------------------------------------------------------------------------\u001b[0m",
      "\u001b[0;31mValueError\u001b[0m                                Traceback (most recent call last)",
      "\u001b[0;32m<ipython-input-13-7cddf03be908>\u001b[0m in \u001b[0;36m<module>\u001b[0;34m()\u001b[0m\n\u001b[1;32m      4\u001b[0m     shortest_path, path_length, num_queries, got_neighbors_for = astar_distance_based(\n\u001b[1;32m      5\u001b[0m         \u001b[0msg\u001b[0m\u001b[0;34m,\u001b[0m \u001b[0msource\u001b[0m\u001b[0;34m,\u001b[0m \u001b[0mdest\u001b[0m\u001b[0;34m,\u001b[0m \u001b[0mset\u001b[0m\u001b[0;34m(\u001b[0m\u001b[0;34m)\u001b[0m\u001b[0;34m,\u001b[0m \u001b[0;34m\"train\"\u001b[0m\u001b[0;34m,\u001b[0m\u001b[0;34m\u001b[0m\u001b[0m\n\u001b[0;32m----> 6\u001b[0;31m         \u001b[0mg_fn\u001b[0m\u001b[0;34m,\u001b[0m \u001b[0mh_fn\u001b[0m\u001b[0;34m\u001b[0m\u001b[0m\n\u001b[0m\u001b[1;32m      7\u001b[0m     )\n\u001b[1;32m      8\u001b[0m     \u001b[0;32mprint\u001b[0m\u001b[0;34m(\u001b[0m\u001b[0mshortest_path\u001b[0m\u001b[0;34m)\u001b[0m\u001b[0;34m\u001b[0m\u001b[0m\n",
      "\u001b[0;31mValueError\u001b[0m: need more than 3 values to unpack"
     ]
    }
   ],
   "source": [
    "source = 5555\n",
    "dest = 2222\n",
    "for g_fn, h_fn in task1_combs:\n",
    "    shortest_path, path_length, num_queries, got_neighbors_for = astar_distance_based(\n",
    "        sg, source, dest, set(), \"train\", \n",
    "        g_fn, h_fn\n",
    "    )\n",
    "    print(shortest_path)"
   ]
  },
  {
   "cell_type": "code",
   "execution_count": null,
   "metadata": {
    "collapsed": true
   },
   "outputs": [],
   "source": []
  }
 ],
 "metadata": {
  "kernelspec": {
   "display_name": "Python 2",
   "language": "python",
   "name": "python2"
  },
  "language_info": {
   "codemirror_mode": {
    "name": "ipython",
    "version": 2
   },
   "file_extension": ".py",
   "mimetype": "text/x-python",
   "name": "python",
   "nbconvert_exporter": "python",
   "pygments_lexer": "ipython2",
   "version": "2.7.11"
  }
 },
 "nbformat": 4,
 "nbformat_minor": 0
}
