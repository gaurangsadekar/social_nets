{
 "cells": [
  {
   "cell_type": "code",
   "execution_count": 1,
   "metadata": {
    "collapsed": false
   },
   "outputs": [],
   "source": [
    "from neighbor_server import *\n",
    "from social_graph import *\n",
    "from shortest_paths import *"
   ]
  },
  {
   "cell_type": "code",
   "execution_count": 2,
   "metadata": {
    "collapsed": false
   },
   "outputs": [
    {
     "name": "stdout",
     "output_type": "stream",
     "text": [
      "Initializing check ins\n",
      "Loading from Training Pickle File\n",
      "Initializing network\n"
     ]
    }
   ],
   "source": [
    "sg = SocialGraph(\"train\")"
   ]
  },
  {
   "cell_type": "code",
   "execution_count": 3,
   "metadata": {
    "collapsed": true
   },
   "outputs": [],
   "source": [
    "from __future__ import print_function"
   ]
  },
  {
   "cell_type": "code",
   "execution_count": 4,
   "metadata": {
    "collapsed": false
   },
   "outputs": [
    {
     "data": {
      "text/plain": [
       "'\\nwhen you add neighbors into the graph\\ntheir g(source) = dist of last check in from source\\nand their h(n) = dist of last check in from end\\n\\ng is cost of geographic movement from source\\nh becomes hueristic to choose the closest neighbor to goal\\n\\nto throttle the API,\\npick the top k nodes at each step that have f = g + h the minimum\\nrather than putting all nodes in the priority queue\\n\\notherwise put all the nodes in the queue, hoping for hueristic to take care of the problem\\nalso maintain the got_neighbors_for set so that multiple test cases can use the same graph\\n'"
      ]
     },
     "execution_count": 4,
     "metadata": {},
     "output_type": "execute_result"
    }
   ],
   "source": [
    "'''\n",
    "when you add neighbors into the graph\n",
    "their g(source) = dist of last check in from source\n",
    "and their h(n) = dist of last check in from end\n",
    "\n",
    "g is cost of geographic movement from source\n",
    "h becomes hueristic to choose the closest neighbor to goal\n",
    "\n",
    "to throttle the API,\n",
    "pick the top k nodes at each step that have f = g + h the minimum\n",
    "rather than putting all nodes in the priority queue\n",
    "\n",
    "otherwise put all the nodes in the queue, hoping for hueristic to take care of the problem\n",
    "also maintain the got_neighbors_for set so that multiple test cases can use the same graph\n",
    "'''"
   ]
  },
  {
   "cell_type": "code",
   "execution_count": 6,
   "metadata": {
    "collapsed": false
   },
   "outputs": [],
   "source": [
    "def get_dist(source, dest, dist_fn):\n",
    "    return dist_fn(sg.get_location(source), sg.get_location(dest))"
   ]
  },
  {
   "cell_type": "code",
   "execution_count": 26,
   "metadata": {
    "collapsed": true
   },
   "outputs": [],
   "source": [
    "import sys"
   ]
  },
  {
   "cell_type": "code",
   "execution_count": 43,
   "metadata": {
    "collapsed": true
   },
   "outputs": [],
   "source": [
    "def astar_temp(source, dest, got_neighbors_for, testcase_id=1, g_fn=dists.manhattan, h_fn=dists.manhattan):\n",
    "    closed_set = set()\n",
    "    # used to reconstruct path after finding destination\n",
    "    came_from = {}\n",
    "    g = {}\n",
    "    for node in sg.node_checkins:\n",
    "        g[node] = sys.maxsize\n",
    "    g[source] = 0\n",
    "    fq = Queue.PriorityQueue()\n",
    "    \n",
    "    # initialize heap with start node\n",
    "    fq.put((get_dist(source, dest, h_fn), source))\n",
    "    while not fq.empty():\n",
    "        min_f, current = fq.get()\n",
    "        \n",
    "        if current == dest:\n",
    "            print(\"Destination Reached\")\n",
    "            return (reconstructed_path(came_from, current), got_neighbors_for)\n",
    "        \n",
    "        closed_set.add(current)\n",
    "        \n",
    "        neighbors = None\n",
    "        if current not in got_neighbors_for: \n",
    "            print(\"Getting neighbors for:\", current)\n",
    "            neighbors = get_neighbors(current, testcase_id)\n",
    "            got_neighbors_for.add(current)\n",
    "        else:\n",
    "            neighbors = sg.get_neighbors(current)\n",
    "        \n",
    "        for neighbor in neighbors.iterkeys():\n",
    "            if neighbor not in closed_set:\n",
    "                tentative_g = g[current] + get_dist(current, neighbor, g_fn)\n",
    "                neighbor_h = get_dist(neighbor, dest, h_fn)\n",
    "                if tentative_g < g[neighbor]:\n",
    "                    #open_set.add(neighbor)\n",
    "                    g[neighbor] = tentative_g\n",
    "                    f_score  = g[neighbor] + neighbor_h\n",
    "                    fq.put((f_score, neighbor))\n",
    "                    came_from[neighbor] = current\n",
    "                    \n",
    "def reconstructed_path(came_from, current):\n",
    "    path = [current]\n",
    "    while current in came_from:\n",
    "        current = came_from[current]\n",
    "        path.append(current)\n",
    "    return [p for p in reversed(path)]\n"
   ]
  },
  {
   "cell_type": "code",
   "execution_count": 4,
   "metadata": {
    "collapsed": false
   },
   "outputs": [
    {
     "name": "stdout",
     "output_type": "stream",
     "text": [
      "Getting neighbors for: 5555\n",
      "Getting neighbors for: 648\n",
      "Getting neighbors for: 12614\n",
      "Getting neighbors for: 647\n",
      "Getting neighbors for: 649\n",
      "Getting neighbors for: 9321\n",
      "Getting neighbors for: 18163\n",
      "Getting neighbors for: 36559\n",
      "Getting neighbors for: 280\n",
      "Getting neighbors for: 9327\n",
      "Getting neighbors for: 40345\n",
      "Getting neighbors for: 9324\n",
      "Getting neighbors for: 9322\n",
      "Getting neighbors for: 9323\n",
      "Getting neighbors for: 32515\n",
      "Getting neighbors for: 7576\n",
      "Getting neighbors for: 11576\n",
      "Getting neighbors for: 41857\n",
      "Getting neighbors for: 15665\n",
      "Getting neighbors for: 13711\n",
      "Getting neighbors for: 964\n",
      "Getting neighbors for: 22591\n",
      "Getting neighbors for: 21373\n",
      "Getting neighbors for: 2202\n",
      "Getting neighbors for: 11287\n",
      "Getting neighbors for: 13394\n",
      "Getting neighbors for: 15947\n",
      "Getting neighbors for: 37713\n",
      "Getting neighbors for: 6883\n",
      "Getting neighbors for: 20287\n",
      "Getting neighbors for: 25511\n",
      "Getting neighbors for: 17599\n",
      "Getting neighbors for: 11592\n",
      "Getting neighbors for: 40568\n",
      "Getting neighbors for: 11290\n",
      "Getting neighbors for: 11289\n",
      "Getting neighbors for: 35707\n",
      "Getting neighbors for: 31676\n",
      "Getting neighbors for: 40021\n",
      "Getting neighbors for: 13051\n",
      "Getting neighbors for: 11288\n",
      "Getting neighbors for: 31673\n",
      "Getting neighbors for: 38502\n",
      "Getting neighbors for: 6150\n",
      "Getting neighbors for: 31675\n",
      "Getting neighbors for: 31674\n",
      "Getting neighbors for: 9621\n",
      "Getting neighbors for: 3954\n",
      "Getting neighbors for: 15119\n",
      "Getting neighbors for: 11291\n",
      "Getting neighbors for: 38501\n",
      "Getting neighbors for: 34993\n",
      "Getting neighbors for: 17096\n",
      "Getting neighbors for: 43503\n",
      "Getting neighbors for: 24179\n",
      "Getting neighbors for: 4460\n",
      "Getting neighbors for: 7457\n",
      "Getting neighbors for: 8210\n",
      "Getting neighbors for: 16963\n",
      "Getting neighbors for: 3289\n",
      "Getting neighbors for: 23383\n",
      "Getting neighbors for: 3286\n",
      "Getting neighbors for: 33012\n",
      "Getting neighbors for: 45438\n",
      "Getting neighbors for: 37461\n",
      "Getting neighbors for: 11213\n",
      "Getting neighbors for: 11204\n",
      "Getting neighbors for: 11612\n",
      "Getting neighbors for: 11591\n",
      "Getting neighbors for: 22171\n",
      "Getting neighbors for: 11590\n",
      "Getting neighbors for: 11205\n",
      "Getting neighbors for: 13708\n",
      "Getting neighbors for: 8209\n",
      "Getting neighbors for: 13714\n",
      "Getting neighbors for: 13713\n",
      "Getting neighbors for: 34745\n",
      "Getting neighbors for: 16880\n",
      "Getting neighbors for: 4893\n",
      "Getting neighbors for: 27809\n",
      "Getting neighbors for: 18888\n",
      "Getting neighbors for: 7736\n",
      "Getting neighbors for: 27808\n",
      "Getting neighbors for: 45312\n",
      "Getting neighbors for: 10225\n",
      "Getting neighbors for: 34126\n",
      "Getting neighbors for: 11623\n",
      "Getting neighbors for: 4035\n",
      "Getting neighbors for: 16978\n",
      "Getting neighbors for: 17600\n",
      "Getting neighbors for: 17294\n",
      "Getting neighbors for: 5117\n",
      "Getting neighbors for: 31534\n",
      "Getting neighbors for: 22361\n",
      "Getting neighbors for: 8716\n",
      "Getting neighbors for: 23839\n",
      "Getting neighbors for: 34657\n",
      "Getting neighbors for: 11585\n",
      "Getting neighbors for: 22115\n",
      "Getting neighbors for: 22117\n",
      "Getting neighbors for: 17891\n",
      "Getting neighbors for: 11885\n",
      "Getting neighbors for: 43498\n",
      "Getting neighbors for: 28295\n",
      "Getting neighbors for: 11587\n",
      "Getting neighbors for: 11622\n",
      "Getting neighbors for: 3953\n",
      "Getting neighbors for: 17480\n",
      "Getting neighbors for: 10696\n",
      "Getting neighbors for: 4361\n",
      "Getting neighbors for: 2218\n",
      "Getting neighbors for: 8934\n",
      "Getting neighbors for: 12626\n",
      "Getting neighbors for: 16796\n",
      "Getting neighbors for: 7577\n",
      "Getting neighbors for: 10612\n",
      "Getting neighbors for: 23395\n",
      "Getting neighbors for: 16962\n",
      "Getting neighbors for: 11012\n",
      "Getting neighbors for: 11580\n",
      "Getting neighbors for: 19356\n",
      "Getting neighbors for: 16573\n",
      "Getting neighbors for: 10182\n",
      "Getting neighbors for: 46689\n",
      "Getting neighbors for: 3957\n",
      "Getting neighbors for: 28361\n",
      "Getting neighbors for: 8729\n",
      "Getting neighbors for: 46674\n",
      "Getting neighbors for: 36160\n",
      "Getting neighbors for: 17477\n",
      "Getting neighbors for: 3960\n",
      "Getting neighbors for: 31856\n",
      "Getting neighbors for: 31855\n",
      "Getting neighbors for: 42647\n",
      "Getting neighbors for: 3955\n",
      "Getting neighbors for: 42243\n",
      "Getting neighbors for: 32763\n",
      "Getting neighbors for: 9083\n",
      "Getting neighbors for: 7957\n",
      "Getting neighbors for: 23183\n",
      "Getting neighbors for: 45813\n",
      "Getting neighbors for: 216\n",
      "Getting neighbors for: 26795\n",
      "Getting neighbors for: 26794\n",
      "Getting neighbors for: 3282\n",
      "Getting neighbors for: 29331\n",
      "Getting neighbors for: 962\n",
      "Getting neighbors for: 963\n",
      "Getting neighbors for: 4846\n",
      "Getting neighbors for: 16985\n",
      "Getting neighbors for: 15989\n",
      "Getting neighbors for: 4108\n",
      "Getting neighbors for: 31976\n",
      "Getting neighbors for: 31975\n",
      "Getting neighbors for: 31977\n",
      "Getting neighbors for: 37919\n",
      "Getting neighbors for: 32765\n",
      "Getting neighbors for: 11884\n",
      "Getting neighbors for: 12052\n",
      "Getting neighbors for: 1422\n",
      "Getting neighbors for: 11886\n",
      "Getting neighbors for: 43874\n",
      "Getting neighbors for: 33848\n",
      "Getting neighbors for: 46439\n",
      "Getting neighbors for: 42512\n",
      "Getting neighbors for: 5404\n",
      "Getting neighbors for: 9117\n",
      "Getting neighbors for: 25047\n",
      "Getting neighbors for: 25514\n",
      "Getting neighbors for: 25515\n",
      "Getting neighbors for: 25510\n",
      "Getting neighbors for: 25513\n",
      "Getting neighbors for: 29742\n",
      "Getting neighbors for: 13695\n",
      "Getting neighbors for: 13649\n",
      "Getting neighbors for: 44296\n",
      "Getting neighbors for: 13645\n",
      "Getting neighbors for: 7230\n",
      "Getting neighbors for: 32315\n",
      "Getting neighbors for: 3778\n",
      "Getting neighbors for: 18369\n",
      "Getting neighbors for: 1213\n",
      "Getting neighbors for: 1664\n",
      "Getting neighbors for: 30447\n",
      "Destination Reached\n",
      "Number of Queries made: 184\n"
     ]
    }
   ],
   "source": [
    "shortest_path, path_length, got_neighbors_for = astar_distance_based(sg, 5555, 2222, set(), \"train\", g_fn=dists.unweighted, h_fn=dists.l2)"
   ]
  },
  {
   "cell_type": "code",
   "execution_count": 9,
   "metadata": {
    "collapsed": false
   },
   "outputs": [
    {
     "data": {
      "text/plain": [
       "[5555, 648, 30447, 2222]"
      ]
     },
     "execution_count": 9,
     "metadata": {},
     "output_type": "execute_result"
    }
   ],
   "source": [
    "shortest_path"
   ]
  },
  {
   "cell_type": "code",
   "execution_count": null,
   "metadata": {
    "collapsed": true
   },
   "outputs": [],
   "source": [
    "shortest_path, path_length, got_neighbors_for = astar_distance_based(sg, 5555, 2222, set(), \"train\", g_fn=dists.unweighted, h_fn=dists.l2)"
   ]
  },
  {
   "cell_type": "code",
   "execution_count": 13,
   "metadata": {
    "collapsed": false
   },
   "outputs": [
    {
     "name": "stdout",
     "output_type": "stream",
     "text": [
      "Destination Reached\n"
     ]
    }
   ],
   "source": [
    "shortest_path, path_length, got_neighbors_for = astar_distance_based(sg, 939, 401, set(), \"train\", g_fn=dists.unweighted, h_fn=dists.manhattan)"
   ]
  },
  {
   "cell_type": "code",
   "execution_count": 14,
   "metadata": {
    "collapsed": false
   },
   "outputs": [
    {
     "data": {
      "text/plain": [
       "[939, 5294, 27493, 10278, 401]"
      ]
     },
     "execution_count": 14,
     "metadata": {},
     "output_type": "execute_result"
    }
   ],
   "source": [
    "shortest_path"
   ]
  },
  {
   "cell_type": "code",
   "execution_count": 15,
   "metadata": {
    "collapsed": false
   },
   "outputs": [
    {
     "data": {
      "text/plain": [
       "4"
      ]
     },
     "execution_count": 15,
     "metadata": {},
     "output_type": "execute_result"
    }
   ],
   "source": [
    "path_length"
   ]
  },
  {
   "cell_type": "code",
   "execution_count": 18,
   "metadata": {
    "collapsed": false
   },
   "outputs": [
    {
     "name": "stdout",
     "output_type": "stream",
     "text": [
      "Destination Reached\n"
     ]
    }
   ],
   "source": [
    "shortest_path, path_length, got_neighbors_for = astar_distance_based(sg, 5555, 2222, set(), \"train\", g_fn=dists.manhattan, h_fn=dists.manhattan)"
   ]
  },
  {
   "cell_type": "code",
   "execution_count": 19,
   "metadata": {
    "collapsed": false
   },
   "outputs": [
    {
     "data": {
      "text/plain": [
       "[5555, 8, 5187, 19390, 2222]"
      ]
     },
     "execution_count": 19,
     "metadata": {},
     "output_type": "execute_result"
    }
   ],
   "source": [
    "shortest_path"
   ]
  },
  {
   "cell_type": "code",
   "execution_count": null,
   "metadata": {
    "collapsed": true
   },
   "outputs": [],
   "source": []
  }
 ],
 "metadata": {
  "kernelspec": {
   "display_name": "Python 2",
   "language": "python",
   "name": "python2"
  },
  "language_info": {
   "codemirror_mode": {
    "name": "ipython",
    "version": 2
   },
   "file_extension": ".py",
   "mimetype": "text/x-python",
   "name": "python",
   "nbconvert_exporter": "python",
   "pygments_lexer": "ipython2",
   "version": "2.7.11"
  }
 },
 "nbformat": 4,
 "nbformat_minor": 0
}
