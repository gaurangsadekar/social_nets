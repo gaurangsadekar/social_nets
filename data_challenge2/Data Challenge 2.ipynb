{
 "cells": [
  {
   "cell_type": "code",
   "execution_count": 66,
   "metadata": {
    "collapsed": false
   },
   "outputs": [],
   "source": [
    "import networkx as nx\n",
    "import math\n",
    "import pickle\n",
    "from gplus_graph import GplusGraph\n",
    "import operator\n",
    "%matplotlib inline\n",
    "import matplotlib.pyplot as plt"
   ]
  },
  {
   "cell_type": "code",
   "execution_count": 67,
   "metadata": {
    "collapsed": false
   },
   "outputs": [],
   "source": [
    "# Read a directed graph\n",
    "graph = pickle.load(open('gplus_pickle_sample.p', 'r'))"
   ]
  },
  {
   "cell_type": "code",
   "execution_count": 68,
   "metadata": {
    "collapsed": false
   },
   "outputs": [],
   "source": [
    "# Calculate feature values of each node based on the set of metrics we use\n",
    "# 1. Number of followers\n",
    "# 2. Number of circles you are a part of in other people's circles\n",
    "# 3. Sum of fractions of circles that you are a part of\n",
    "# 4. Average of fractions of circles that you are a part of\n",
    "\n",
    "def calculateFeatureValues(graph):\n",
    "    for node, data in graph.nodes_iter(data=True):\n",
    "        in_edges = graph.in_edges(node, data=True)\n",
    "        total_circles = 0\n",
    "        total_fraction = 0\n",
    "        for n1, _, edata in in_edges:\n",
    "            if 'circle' in edata:\n",
    "                l = len(edata['circle'])\n",
    "                total_circles += l\n",
    "                total_fraction += (l * 1.0 / graph.node[n1]['num_circles'])\n",
    "        \n",
    "        data['followers'] = len(in_edges)\n",
    "        data['in_circles'] = total_circles\n",
    "        data['sum_circle_fraction'] = total_fraction\n",
    "    \n",
    "        #print graph.node[node]"
   ]
  },
  {
   "cell_type": "code",
   "execution_count": 69,
   "metadata": {
    "collapsed": true
   },
   "outputs": [],
   "source": [
    "# Feature weights\n",
    "feature_weights = {}\n",
    "feature_weights['followers'] = 0.01\n",
    "feature_weights['in_circles'] = 0.39\n",
    "feature_weights['sum_circle_fraction'] = 0.6"
   ]
  },
  {
   "cell_type": "code",
   "execution_count": 70,
   "metadata": {
    "collapsed": false
   },
   "outputs": [],
   "source": [
    "# Calculating the score for every node based on our metric\n",
    "def calculateScores(graph):\n",
    "    scores = {}\n",
    "    non_gender_count = 0\n",
    "    for node, data in graph.nodes_iter(data=True):\n",
    "        if 'gender' not in data:\n",
    "            pass\n",
    "        else:\n",
    "            score = 0\n",
    "            for feature in feature_weights:\n",
    "                score += feature_weights[feature] * data[feature]\n",
    "\n",
    "            scores[node] = score\n",
    "            #print \"Node\", node, \"with gender\", graph.node[node]['gender'], \"had a score of\", score, \"using our metric\"\n",
    "        \n",
    "    return scores"
   ]
  },
  {
   "cell_type": "code",
   "execution_count": 71,
   "metadata": {
    "collapsed": false
   },
   "outputs": [],
   "source": [
    "calculateFeatureValues(graph.g)\n",
    "scores = calculateScores(graph.g)"
   ]
  },
  {
   "cell_type": "code",
   "execution_count": 72,
   "metadata": {
    "collapsed": false
   },
   "outputs": [
    {
     "name": "stdout",
     "output_type": "stream",
     "text": [
      "M 21219 3.05346010651\n",
      "O 7976 2.36921890672\n",
      "F 6498 2.71971298861\n",
      "False 35352 2.83047196764\n",
      "True 341 3.80677419355\n"
     ]
    }
   ],
   "source": [
    "gender_dict = {}\n",
    "gender_dict['M'] = 0\n",
    "gender_dict['F'] = 0\n",
    "gender_dict['O'] = 0\n",
    "googler_dict = {True: 0, False: 0}\n",
    "total_googlers = {True: 0, False: 0}\n",
    "total_genders = {'M': 0, 'F': 0, 'O': 0}\n",
    "for node, score in scores.iteritems():\n",
    "    gen = graph.g.node[node]['gender']\n",
    "    gender_dict[gen] += score\n",
    "    total_genders[gen] += 1\n",
    "    \n",
    "    goog = graph.g.node[node]['googler']\n",
    "    googler_dict[goog] += score\n",
    "    total_googlers[goog] += 1\n",
    "    \n",
    "for gen, score in gender_dict.iteritems():\n",
    "    print gen, total_genders[gen], score * 1.0 / total_genders[gen]\n",
    "    \n",
    "for goog, score in googler_dict.iteritems():\n",
    "    print goog, total_googlers[goog], score * 1.0 / total_googlers[goog]"
   ]
  },
  {
   "cell_type": "code",
   "execution_count": 73,
   "metadata": {
    "collapsed": false
   },
   "outputs": [],
   "source": [
    "sorted_by_score = sorted(scores.items(), key=operator.itemgetter(1))"
   ]
  },
  {
   "cell_type": "code",
   "execution_count": 74,
   "metadata": {
    "collapsed": false,
    "scrolled": false
   },
   "outputs": [],
   "source": [
    "interval_fraction = 0.1\n",
    "num_intervals = 1/interval_fraction\n",
    "num_nodes = len(sorted_by_score)\n",
    "\n",
    "intervals = []\n",
    "intervals2 = []\n",
    "for i in range(int(num_intervals)):\n",
    "    nodes = [node for node, _ in sorted_by_score[int(interval_fraction*i*num_nodes): int(interval_fraction*(i+1)*num_nodes)]]\n",
    "    new_dict = {\"M\": 0, \"F\": 0, \"O\": 0}\n",
    "    new_goog_dict = {True: 0, False: 0}\n",
    "    for node in nodes:\n",
    "        new_dict[graph.g.node[node]['gender']] += 1\n",
    "        new_goog_dict[graph.g.node[node]['googler']] += 1\n",
    "    \n",
    "    for gender in new_dict:\n",
    "        new_dict[gender] = (new_dict[gender]*1.0 / len(nodes)) / (total_genders[gender]*1.0/num_nodes)\n",
    "        \n",
    "    for goog in new_goog_dict:\n",
    "        new_goog_dict[goog] =  (new_goog_dict[goog]*1.0 / len(nodes)) / (total_googlers[goog]*1.0/num_nodes)\n",
    "        \n",
    "    intervals.append([new_dict['M'], new_dict['F'], new_dict['O']])\n",
    "    intervals2.append([new_goog_dict[True], new_goog_dict[False]])\n"
   ]
  },
  {
   "cell_type": "code",
   "execution_count": 75,
   "metadata": {
    "collapsed": false
   },
   "outputs": [
    {
     "data": {
      "image/png": "[encoded data removed]",
      "text/plain": [
       "<matplotlib.figure.Figure at 0x1dc4455d0>"
      ]
     },
     "metadata": {},
     "output_type": "display_data"
    }
   ],
   "source": [
    "plt.plot(intervals)\n",
    "plt.title('Fraction of each gender per interval, relative to overall fraction')\n",
    "plt.legend([\"M\", \"F\", \"O\"], loc='center left', bbox_to_anchor=(1, 0.5))\n",
    "plt.show()"
   ]
  },
  {
   "cell_type": "code",
   "execution_count": null,
   "metadata": {
    "collapsed": true
   },
   "outputs": [],
   "source": [
    "plt.plot(intervals2)\n",
    "plt.title('Fraction of googlers vs non-googlers, relative to overall fraction')\n",
    "plt.legend([\"googler\", \"non-googler\"], loc='center left', bbox_to_anchor=(1, 0.5))\n",
    "plt.show()"
   ]
  },
  {
   "cell_type": "code",
   "execution_count": 78,
   "metadata": {
    "collapsed": false
   },
   "outputs": [
    {
     "data": {
      "text/plain": [
       "4555522"
      ]
     },
     "execution_count": 78,
     "metadata": {},
     "output_type": "execute_result"
    }
   ],
   "source": [
    "len(graph.g.edges())"
   ]
  },
  {
   "cell_type": "code",
   "execution_count": 79,
   "metadata": {
    "collapsed": false
   },
   "outputs": [
    {
     "data": {
      "text/plain": [
       "92091"
      ]
     },
     "execution_count": 79,
     "metadata": {},
     "output_type": "execute_result"
    }
   ],
   "source": [
    "len(graph.g.nodes())"
   ]
  },
  {
   "cell_type": "code",
   "execution_count": null,
   "metadata": {
    "collapsed": true
   },
   "outputs": [],
   "source": []
  }
 ],
 "metadata": {
  "kernelspec": {
   "display_name": "Python 2",
   "language": "python",
   "name": "python2"
  },
  "language_info": {
   "codemirror_mode": {
    "name": "ipython",
    "version": 2
   },
   "file_extension": ".py",
   "mimetype": "text/x-python",
   "name": "python",
   "nbconvert_exporter": "python",
   "pygments_lexer": "ipython2",
   "version": "2.7.11"
  }
 },
 "nbformat": 4,
 "nbformat_minor": 0
}
