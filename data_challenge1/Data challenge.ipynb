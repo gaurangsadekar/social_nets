{
 "cells": [
  {
   "cell_type": "code",
   "execution_count": 1,
   "metadata": {
    "collapsed": true
   },
   "outputs": [],
   "source": [
    "from social_graph import *\n",
    "import networkx as nx\n",
    "import dists\n",
    "import random"
   ]
  },
  {
   "cell_type": "code",
   "execution_count": 2,
   "metadata": {
    "collapsed": false,
    "scrolled": false
   },
   "outputs": [
    {
     "name": "stdout",
     "output_type": "stream",
     "text": [
      "Initializing check ins\n",
      "Initializing network\n",
      "Initializing check ins\n",
      "Loading from Training Pickle File\n",
      "Initializing network\n",
      "Initializing check ins\n",
      "Loading from Training Pickle File\n",
      "Initializing network\n"
     ]
    }
   ],
   "source": [
    "gr = SocialGraph('train')\n",
    "man_gr = SocialGraph('train')\n",
    "l2_gr = SocialGraph('train')"
   ]
  },
  {
   "cell_type": "code",
   "execution_count": 3,
   "metadata": {
    "collapsed": false
   },
   "outputs": [],
   "source": [
    "gr.network.remove_edges_from(man_gr.network.selfloop_edges())\n",
    "man_gr.network.remove_edges_from(man_gr.network.selfloop_edges())\n",
    "l2_gr.network.remove_edges_from(l2_gr.network.selfloop_edges())"
   ]
  },
  {
   "cell_type": "code",
   "execution_count": 4,
   "metadata": {
    "collapsed": false
   },
   "outputs": [],
   "source": [
    "def manhattan_heuristic(node1, node2):\n",
    "    return dists.manhattan(man_gr.node_checkins[node1][0][1], man_gr.node_checkins[node2][0][1])\n",
    "def l2_heuristic(node1, node2):\n",
    "    return dists.l2(l2_gr.node_checkins[node1][0][1], l2_gr.node_checkins[node2][0][1])"
   ]
  },
  {
   "cell_type": "code",
   "execution_count": 5,
   "metadata": {
    "collapsed": false
   },
   "outputs": [],
   "source": [
    "def add_edge_weights(graph, dist_func):\n",
    "    for u, v in graph.network.edges():\n",
    "        graph.network.add_edge(u, v, weight=dist_func(u,v))\n",
    "        \n",
    "add_edge_weights(man_gr, manhattan_heuristic)\n",
    "add_edge_weights(l2_gr, l2_heuristic)"
   ]
  },
  {
   "cell_type": "code",
   "execution_count": null,
   "metadata": {
    "collapsed": false,
    "scrolled": true
   },
   "outputs": [],
   "source": [
    "nx.astar_path(man_gr.network, 5555, 2222, manhattan_heuristic)"
   ]
  },
  {
   "cell_type": "code",
   "execution_count": null,
   "metadata": {
    "collapsed": false,
    "scrolled": true
   },
   "outputs": [],
   "source": [
    "nx.astar_path(l2_gr.network, 5555, 2222, l2_heuristic)"
   ]
  },
  {
   "cell_type": "code",
   "execution_count": null,
   "metadata": {
    "collapsed": false,
    "scrolled": true
   },
   "outputs": [],
   "source": [
    "nx.astar_path(gr.network, 5555, 2222, manhattan_heuristic)"
   ]
  },
  {
   "cell_type": "code",
   "execution_count": null,
   "metadata": {
    "collapsed": false,
    "scrolled": true
   },
   "outputs": [],
   "source": [
    "nx.astar_path(gr.network, 5555, 2222, l2_heuristic)"
   ]
  },
  {
   "cell_type": "code",
   "execution_count": null,
   "metadata": {
    "collapsed": false
   },
   "outputs": [],
   "source": [
    "NUM_SOURCES_TO_CHECK = 100\n",
    "\n",
    "man_better = 0\n",
    "l2_better = 0\n",
    "man_wt_better = 0\n",
    "l2_wt_better = 0\n",
    "node_list = gr.network.nodes()\n",
    "sample_indexes = random.sample(range(0,len(node_list)), 2 * NUM_SOURCES_TO_CHECK)\n",
    "sample_list = [node_list[i] for i in sample_indexes]\n",
    "source_list = sample_list[:NUM_SOURCES_TO_CHECK]\n",
    "dest_list = sample_list[NUM_SOURCES_TO_CHECK:]\n",
    "\n",
    "for i in source_list:\n",
    "    for j in dest_list:\n",
    "            man_len = len(nx.astar_path(gr.network, i, j, manhattan_heuristic))\n",
    "            l2_len = len(nx.astar_path(gr.network, i, j, l2_heuristic))\n",
    "            man_wt_len = len(nx.astar_path(man_gr.network, i, j, manhattan_heuristic))\n",
    "            l2_wt_len = len(nx.astar_path(l2_gr.network, i, j, l2_heuristic))\n",
    "            best_len = min(man_len, l2_len, man_wt_len, l2_wt_len)\n",
    "            \n",
    "            if man_len == best_len:\n",
    "                man_better += 1\n",
    "            if l2_len == best_len:\n",
    "                l2_better += 1\n",
    "            if man_wt_len == best_len:\n",
    "                man_wt_better += 1\n",
    "            if l2_wt_len == best_len:\n",
    "                l2_wt_better += 1\n",
    "                \n",
    "print (man_better, l2_better, man_wt_better, l2_wt_better)"
   ]
  },
  {
   "cell_type": "code",
   "execution_count": null,
   "metadata": {
    "collapsed": true
   },
   "outputs": [],
   "source": []
  }
 ],
 "metadata": {
  "kernelspec": {
   "display_name": "Python 2",
   "language": "python",
   "name": "python2"
  },
  "language_info": {
   "codemirror_mode": {
    "name": "ipython",
    "version": 2
   },
   "file_extension": ".py",
   "mimetype": "text/x-python",
   "name": "python",
   "nbconvert_exporter": "python",
   "pygments_lexer": "ipython2",
   "version": "2.7.10"
  }
 },
 "nbformat": 4,
 "nbformat_minor": 0
}
