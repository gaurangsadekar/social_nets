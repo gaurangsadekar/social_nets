{
 "cells": [
  {
   "cell_type": "code",
   "execution_count": 1,
   "metadata": {
    "collapsed": false
   },
   "outputs": [],
   "source": [
    "from neighbor_server import *\n",
    "from social_graph import *\n",
    "from shortest_paths import *"
   ]
  },
  {
   "cell_type": "code",
   "execution_count": 2,
   "metadata": {
    "collapsed": false
   },
   "outputs": [
    {
     "name": "stdout",
     "output_type": "stream",
     "text": [
      "Initializing check ins\n",
      "Loading from Training Pickle File\n",
      "Initializing network\n"
     ]
    }
   ],
   "source": [
    "sg = SocialGraph(\"train\")"
   ]
  },
  {
   "cell_type": "code",
   "execution_count": 3,
   "metadata": {
    "collapsed": true
   },
   "outputs": [],
   "source": [
    "from __future__ import print_function"
   ]
  },
  {
   "cell_type": "code",
   "execution_count": 4,
   "metadata": {
    "collapsed": false
   },
   "outputs": [
    {
     "data": {
      "text/plain": [
       "'\\nwhen you add neighbors into the graph\\ntheir g(source) = dist of last check in from source\\nand their h(n) = dist of last check in from end\\n\\ng is cost of geographic movement from source\\nh becomes hueristic to choose the closest neighbor to goal\\n\\nto throttle the API,\\npick the top k nodes at each step that have f = g + h the minimum\\nrather than putting all nodes in the priority queue\\n\\notherwise put all the nodes in the queue, hoping for hueristic to take care of the problem\\nalso maintain the got_neighbors_for set so that multiple test cases can use the same graph\\n'"
      ]
     },
     "execution_count": 4,
     "metadata": {},
     "output_type": "execute_result"
    }
   ],
   "source": [
    "'''\n",
    "when you add neighbors into the graph\n",
    "their g(source) = dist of last check in from source\n",
    "and their h(n) = dist of last check in from end\n",
    "\n",
    "g is cost of geographic movement from source\n",
    "h becomes hueristic to choose the closest neighbor to goal\n",
    "\n",
    "to throttle the API,\n",
    "pick the top k nodes at each step that have f = g + h the minimum\n",
    "rather than putting all nodes in the priority queue\n",
    "\n",
    "otherwise put all the nodes in the queue, hoping for hueristic to take care of the problem\n",
    "also maintain the got_neighbors_for set so that multiple test cases can use the same graph\n",
    "'''"
   ]
  },
  {
   "cell_type": "code",
   "execution_count": 5,
   "metadata": {
    "collapsed": false
   },
   "outputs": [
    {
     "name": "stdout",
     "output_type": "stream",
     "text": [
      "Destination Reached\n",
      "Number of Queries made: 184\n"
     ]
    }
   ],
   "source": [
    "shortest_path, path_length, num_queries, got_neighbors_for = astar_distance_based(sg, 5555, 2222, set(), \"train\", g_fn=dists.unweighted, h_fn=dists.l2)"
   ]
  },
  {
   "cell_type": "code",
   "execution_count": 6,
   "metadata": {
    "collapsed": false
   },
   "outputs": [
    {
     "data": {
      "text/plain": [
       "[5555, 648, 30447, 2222]"
      ]
     },
     "execution_count": 6,
     "metadata": {},
     "output_type": "execute_result"
    }
   ],
   "source": [
    "shortest_path"
   ]
  },
  {
   "cell_type": "code",
   "execution_count": 7,
   "metadata": {
    "collapsed": false
   },
   "outputs": [
    {
     "name": "stdout",
     "output_type": "stream",
     "text": [
      "Destination Reached\n",
      "Number of Queries made: 184\n"
     ]
    }
   ],
   "source": [
    "shortest_path, path_length, num_queries, got_neighbors_for = astar_distance_based(sg, 5555, 2222, set(), \"train\", g_fn=dists.unweighted, h_fn=dists.l2)"
   ]
  },
  {
   "cell_type": "code",
   "execution_count": 8,
   "metadata": {
    "collapsed": false
   },
   "outputs": [
    {
     "name": "stdout",
     "output_type": "stream",
     "text": [
      "Destination Reached\n",
      "Number of Queries made: 230\n"
     ]
    }
   ],
   "source": [
    "shortest_path, path_length, num_queries, got_neighbors_for = astar_distance_based(sg, 939, 401, set(), \"train\", g_fn=dists.unweighted, h_fn=dists.manhattan)"
   ]
  },
  {
   "cell_type": "code",
   "execution_count": 9,
   "metadata": {
    "collapsed": false
   },
   "outputs": [
    {
     "data": {
      "text/plain": [
       "[939, 5294, 27493, 10278, 401]"
      ]
     },
     "execution_count": 9,
     "metadata": {},
     "output_type": "execute_result"
    }
   ],
   "source": [
    "shortest_path"
   ]
  },
  {
   "cell_type": "code",
   "execution_count": null,
   "metadata": {
    "collapsed": false
   },
   "outputs": [],
   "source": [
    "# path length\n",
    "task1_combs = [(dists.unweighted, dists.manhattan), (dists.unweighted, dists.l2)]\n",
    "# geographic length\n",
    "task2_combs = [(dists.manhattan, dists.manhattan), (dists.l2, dists.l2)]"
   ]
  },
  {
   "cell_type": "code",
   "execution_count": null,
   "metadata": {
    "collapsed": false
   },
   "outputs": [],
   "source": [
    "source = 5555\n",
    "dest = 2222\n",
    "for g_func, h_func in task1_combs:\n",
    "    shortest_path, path_length, num_queries, got_neighbors_for = astar_distance_based(\n",
    "        sg, source, dest, set(), \"train\", \n",
    "        g_fn=g_func, h_fn=h_func\n",
    "    )\n",
    "    print(shortest_path, path_length)"
   ]
  },
  {
   "cell_type": "code",
   "execution_count": null,
   "metadata": {
    "collapsed": false
   },
   "outputs": [],
   "source": [
    "source = 42568\n",
    "dest = 8195\n",
    "for g_func, h_func in task1_combs:\n",
    "    shortest_path, path_length, num_queries, got_neighbors_for = astar_distance_based(\n",
    "        sg, source, dest, set(), \"train\", \n",
    "        g_fn=g_func, h_fn=h_func\n",
    "    )\n",
    "    print(shortest_path, path_length)"
   ]
  },
  {
   "cell_type": "code",
   "execution_count": 25,
   "metadata": {
    "collapsed": false
   },
   "outputs": [
    {
     "name": "stdout",
     "output_type": "stream",
     "text": [
      "Path found at: 8 5555\n"
     ]
    }
   ],
   "source": [
    "shortest_path, path_length, nq = frontier_search(sg, 5555, 2222, set())"
   ]
  },
  {
   "cell_type": "code",
   "execution_count": 26,
   "metadata": {
    "collapsed": false,
    "scrolled": true
   },
   "outputs": [
    {
     "data": {
      "text/plain": [
       "([5555, 8, 13239, 1266, 2222], 4, 82)"
      ]
     },
     "execution_count": 26,
     "metadata": {},
     "output_type": "execute_result"
    }
   ],
   "source": [
    "shortest_path, path_length, nq"
   ]
  },
  {
   "cell_type": "code",
   "execution_count": 27,
   "metadata": {
    "collapsed": false
   },
   "outputs": [
    {
     "name": "stdout",
     "output_type": "stream",
     "text": [
      "Path found at: 8 8245\n"
     ]
    }
   ],
   "source": [
    "shortest_path, path_length, nq = frontier_search(sg, 5555, 2222, set(), g_fn=dists.manhattan)"
   ]
  },
  {
   "cell_type": "code",
   "execution_count": 28,
   "metadata": {
    "collapsed": false
   },
   "outputs": [
    {
     "data": {
      "text/plain": [
       "([5555, 8, 8245, 1339, 2222], 112.52789999999999, 5)"
      ]
     },
     "execution_count": 28,
     "metadata": {},
     "output_type": "execute_result"
    }
   ],
   "source": [
    "shortest_path, path_length, nq"
   ]
  },
  {
   "cell_type": "code",
   "execution_count": null,
   "metadata": {
    "collapsed": true
   },
   "outputs": [],
   "source": []
  }
 ],
 "metadata": {
  "kernelspec": {
   "display_name": "Python 2",
   "language": "python",
   "name": "python2"
  },
  "language_info": {
   "codemirror_mode": {
    "name": "ipython",
    "version": 2
   },
   "file_extension": ".py",
   "mimetype": "text/x-python",
   "name": "python",
   "nbconvert_exporter": "python",
   "pygments_lexer": "ipython2",
   "version": "2.7.10"
  }
 },
 "nbformat": 4,
 "nbformat_minor": 0
}
