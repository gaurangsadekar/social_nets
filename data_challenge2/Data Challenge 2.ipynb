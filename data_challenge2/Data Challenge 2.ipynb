{
 "cells": [
  {
   "cell_type": "code",
   "execution_count": 3,
   "metadata": {
    "collapsed": false
   },
   "outputs": [],
   "source": [
    "import networkx as nx\n",
    "import math\n",
    "import pickle"
   ]
  },
  {
   "cell_type": "code",
   "execution_count": null,
   "metadata": {
    "collapsed": true
   },
   "outputs": [],
   "source": [
    "# Read a directed graph\n",
    "graph = pickle.load('graph.p')"
   ]
  },
  {
   "cell_type": "code",
   "execution_count": 16,
   "metadata": {
    "collapsed": false
   },
   "outputs": [],
   "source": [
    "# Calculate feature values of each node based on the set of metrics we use\n",
    "# 1. Number of followers\n",
    "# 2. Number of circles you are a part of in other people's circles\n",
    "# 3. Sum of fractions of circles that you are a part of\n",
    "# 4. Average of fractions of circles that you are a part of\n",
    "\n",
    "def calculateFeatureValues(graph):\n",
    "    for node, data in graph.nodes_iter(data=True):\n",
    "        in_edges = graph.in_edges(data=True)\n",
    "        total_circles = 0\n",
    "        total_fraction = 0\n",
    "        for n1, n2, edata in in_edges:\n",
    "            total_circles += edata['circles']\n",
    "            total_fraction += (edata['circles'] * 1.0 / graph.node[n1]['circles'])\n",
    "        \n",
    "        average_fraction = 0\n",
    "        if len(in_edges) > 0:\n",
    "            average_fraction = total_fraction / in_edges\n",
    "        \n",
    "        data['followers'] = len(in_edges)\n",
    "        data['in_circles'] = total_circles\n",
    "        data['sum_circle_fraction'] = total_fraction\n",
    "        data['avg_circle_fraction'] = total_fraction\n",
    "    \n",
    "        print gr.node[node]"
   ]
  },
  {
   "cell_type": "code",
   "execution_count": 20,
   "metadata": {
    "collapsed": true
   },
   "outputs": [],
   "source": [
    "# Feature weights\n",
    "feature_weights = {}\n",
    "feature_weights['followers'] = 1\n",
    "feature_weights['in_circles'] = 1\n",
    "feature_weights['sum_circle_fraction'] = 1\n",
    "feature_weights['avg_circle_fraction'] = 1"
   ]
  },
  {
   "cell_type": "code",
   "execution_count": 29,
   "metadata": {
    "collapsed": true
   },
   "outputs": [],
   "source": [
    "# Calculating the score for every node based on our metric\n",
    "def calculateScores(graph):\n",
    "    scores = {}\n",
    "    for node, data in graph.nodes_iter(data=True):\n",
    "        score = 0\n",
    "        for feature in feature_weights:\n",
    "            score += feature_weights[feature] * data[feature]\n",
    "        \n",
    "        scores[node] = score\n",
    "        print \"Node\", node, \"with gender\", graph.node[node]['gender'], \"had a score of\", score, \"using our metric\"\n",
    "        \n",
    "    return scores"
   ]
  },
  {
   "cell_type": "code",
   "execution_count": 30,
   "metadata": {
    "collapsed": false
   },
   "outputs": [
    {
     "name": "stdout",
     "output_type": "stream",
     "text": [
      "{'gender': 'M', 'sum_circle_fraction': 0, 'avg_circle_fraction': 0, 'followers': 0, 'in_circles': 0}\n",
      "Node test with gender M had a score of 0 using our metric\n",
      "{'test': 0}\n"
     ]
    }
   ],
   "source": [
    "gr = nx.DiGraph()\n",
    "gr.add_node(\"test\",  gender='M')\n",
    "calculateFeatureValues(gr)\n",
    "scores = calculateScores(gr)\n",
    "print scores"
   ]
  },
  {
   "cell_type": "code",
   "execution_count": null,
   "metadata": {
    "collapsed": true
   },
   "outputs": [],
   "source": []
  }
 ],
 "metadata": {
  "kernelspec": {
   "display_name": "Python 2",
   "language": "python",
   "name": "python2"
  },
  "language_info": {
   "codemirror_mode": {
    "name": "ipython",
    "version": 2
   },
   "file_extension": ".py",
   "mimetype": "text/x-python",
   "name": "python",
   "nbconvert_exporter": "python",
   "pygments_lexer": "ipython2",
   "version": "2.7.10"
  }
 },
 "nbformat": 4,
 "nbformat_minor": 0
}
